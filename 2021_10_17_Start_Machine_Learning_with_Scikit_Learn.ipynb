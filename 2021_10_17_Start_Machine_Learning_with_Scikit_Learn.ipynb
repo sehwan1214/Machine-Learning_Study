{
  "nbformat": 4,
  "nbformat_minor": 0,
  "metadata": {
    "colab": {
      "name": "2021-10-17-Start Machine Learning with Scikit-Learn.ipynb",
      "provenance": [],
      "collapsed_sections": [],
      "toc_visible": true
    },
    "kernelspec": {
      "name": "python3",
      "display_name": "Python 3"
    },
    "language_info": {
      "name": "python"
    }
  },
  "cells": [
    {
      "cell_type": "markdown",
      "metadata": {
        "id": "w-bNECtzrKFQ"
      },
      "source": [
        "#**Start Machine Learning with Scikit-Learn**\n",
        "\n",
        "\n",
        "---\n",
        "\n",
        "\n",
        "\n",
        "1. Making Machine Learning model - Predicting the varieties of irises.\n",
        "2. Learn Scikit-Learn based framework\n",
        "3. Model_Selection  "
      ]
    },
    {
      "cell_type": "markdown",
      "metadata": {
        "id": "InqwSV2Srjem"
      },
      "source": [
        "##**1. Making Machine Learning model - Predicting the varieties of irises.**\n",
        "    Create a data set -> load_iris()\n",
        "    ML algorithm -> DecisionTreeClassifier\n",
        "    Separate data into train data and test data -> train_test_split()"
      ]
    },
    {
      "cell_type": "code",
      "metadata": {
        "id": "uxmIqe-u2WaR"
      },
      "source": [
        "from sklearn.datasets import load_iris\n",
        "from sklearn.tree import DecisionTreeClassifier\n",
        "from sklearn.model_selection import train_test_split"
      ],
      "execution_count": null,
      "outputs": []
    },
    {
      "cell_type": "code",
      "metadata": {
        "colab": {
          "base_uri": "https://localhost:8080/",
          "height": 250
        },
        "id": "S_fTlzZwskUo",
        "outputId": "3b0178e7-0d2a-4a30-9680-26d337899485"
      },
      "source": [
        "import pandas as pd\n",
        "\n",
        "# Load iris data\n",
        "iris = load_iris()\n",
        "\n",
        "# iris.data has data with only features as a numpy\n",
        "iris_data = iris.data\n",
        "\n",
        "# iris.target has label(decided value)data as a numpy\n",
        "iris_label = iris.target\n",
        "print('iris target\\'s value:', iris_label)\n",
        "print('iris target\\'s name:', iris.target_names)\n",
        "\n",
        "# Convert to DataFrame\n",
        "iris_df = pd.DataFrame(data = iris.data, columns = iris.feature_names)\n",
        "iris_df['label'] = iris.target\n",
        "iris_df.head(3)"
      ],
      "execution_count": null,
      "outputs": [
        {
          "output_type": "stream",
          "name": "stdout",
          "text": [
            "iris target's value: [0 0 0 0 0 0 0 0 0 0 0 0 0 0 0 0 0 0 0 0 0 0 0 0 0 0 0 0 0 0 0 0 0 0 0 0 0\n",
            " 0 0 0 0 0 0 0 0 0 0 0 0 0 1 1 1 1 1 1 1 1 1 1 1 1 1 1 1 1 1 1 1 1 1 1 1 1\n",
            " 1 1 1 1 1 1 1 1 1 1 1 1 1 1 1 1 1 1 1 1 1 1 1 1 1 1 2 2 2 2 2 2 2 2 2 2 2\n",
            " 2 2 2 2 2 2 2 2 2 2 2 2 2 2 2 2 2 2 2 2 2 2 2 2 2 2 2 2 2 2 2 2 2 2 2 2 2\n",
            " 2 2]\n",
            "iris target's name: ['setosa' 'versicolor' 'virginica']\n"
          ]
        },
        {
          "output_type": "execute_result",
          "data": {
            "text/html": [
              "<div>\n",
              "<style scoped>\n",
              "    .dataframe tbody tr th:only-of-type {\n",
              "        vertical-align: middle;\n",
              "    }\n",
              "\n",
              "    .dataframe tbody tr th {\n",
              "        vertical-align: top;\n",
              "    }\n",
              "\n",
              "    .dataframe thead th {\n",
              "        text-align: right;\n",
              "    }\n",
              "</style>\n",
              "<table border=\"1\" class=\"dataframe\">\n",
              "  <thead>\n",
              "    <tr style=\"text-align: right;\">\n",
              "      <th></th>\n",
              "      <th>sepal length (cm)</th>\n",
              "      <th>sepal width (cm)</th>\n",
              "      <th>petal length (cm)</th>\n",
              "      <th>petal width (cm)</th>\n",
              "      <th>label</th>\n",
              "    </tr>\n",
              "  </thead>\n",
              "  <tbody>\n",
              "    <tr>\n",
              "      <th>0</th>\n",
              "      <td>5.1</td>\n",
              "      <td>3.5</td>\n",
              "      <td>1.4</td>\n",
              "      <td>0.2</td>\n",
              "      <td>0</td>\n",
              "    </tr>\n",
              "    <tr>\n",
              "      <th>1</th>\n",
              "      <td>4.9</td>\n",
              "      <td>3.0</td>\n",
              "      <td>1.4</td>\n",
              "      <td>0.2</td>\n",
              "      <td>0</td>\n",
              "    </tr>\n",
              "    <tr>\n",
              "      <th>2</th>\n",
              "      <td>4.7</td>\n",
              "      <td>3.2</td>\n",
              "      <td>1.3</td>\n",
              "      <td>0.2</td>\n",
              "      <td>0</td>\n",
              "    </tr>\n",
              "  </tbody>\n",
              "</table>\n",
              "</div>"
            ],
            "text/plain": [
              "   sepal length (cm)  sepal width (cm)  ...  petal width (cm)  label\n",
              "0                5.1               3.5  ...               0.2      0\n",
              "1                4.9               3.0  ...               0.2      0\n",
              "2                4.7               3.2  ...               0.2      0\n",
              "\n",
              "[3 rows x 5 columns]"
            ]
          },
          "metadata": {},
          "execution_count": 2
        }
      ]
    },
    {
      "cell_type": "code",
      "metadata": {
        "id": "zZXlG_kNtqkU"
      },
      "source": [
        "x_train, x_test, y_train, y_test = train_test_split(iris_data, iris_label, test_size = 0.2, random_state = 11)"
      ],
      "execution_count": null,
      "outputs": []
    },
    {
      "cell_type": "code",
      "metadata": {
        "colab": {
          "base_uri": "https://localhost:8080/"
        },
        "id": "uMRz4MHet6hF",
        "outputId": "5d32af93-e7ba-4ddb-fa38-ffd60fe37425"
      },
      "source": [
        "dtc = DecisionTreeClassifier(random_state = 11)\n",
        "dtc.fit(x_train, y_train)\n",
        "pred = dtc.predict(x_test)\n",
        "from sklearn.metrics import accuracy_score\n",
        "print(\"accuracy_score: %.4f\" %accuracy_score(y_test, pred))"
      ],
      "execution_count": null,
      "outputs": [
        {
          "output_type": "stream",
          "name": "stdout",
          "text": [
            "accuracy_score: 0.9333\n"
          ]
        }
      ]
    },
    {
      "cell_type": "markdown",
      "metadata": {
        "id": "f1HjvXn1vB4h"
      },
      "source": [
        "##**2. Learn Scikit-Learn based framework**\n",
        "\n",
        "\n",
        "1.   Understanding of Estimator, fit( ), predict( )\n",
        "2.   The main process of building a Machine Learning model\n",
        "\n"
      ]
    },
    {
      "cell_type": "markdown",
      "metadata": {
        "id": "5fJUVwAWvxti"
      },
      "source": [
        "### 1.   Understanding of Estimator, fit( ), predict( )\n",
        "    Model Learning -> fit()\n",
        "    Prediction of the learned model -> predict()\n",
        "    Classification algorithm -> Classifer\n",
        "    Regression algorithm -> Regressor\n",
        "    Classifier + Regressor = Estimator(A class that implements all algorithms of supervised learning)\n",
        "    Estimater implements fit() and predict() internally\n",
        "    "
      ]
    },
    {
      "cell_type": "markdown",
      "metadata": {
        "id": "_lRXsAScxRNU"
      },
      "source": [
        "### 2. The main process of building a Machine Learning model\n",
        "    1. Feature processing(processing, changing, extracting)\n",
        "    2. ML algorithm train/predict\n",
        "    3. Model evaluation"
      ]
    },
    {
      "cell_type": "markdown",
      "metadata": {
        "id": "N-RX4g0XzW_A"
      },
      "source": [
        "## **3. Model_Selection**  \n",
        "    Seperate train data and test data, cross-validation division and evaluation, tune Estimator's hyper parameter\n",
        "\n",
        "\n",
        "1.   train_test_split( )\n",
        "2.   cross-validation\n",
        "3.   GridSearchCV\n",
        "4.   Data Preprocessing\n",
        "5.   Feature Scaling and Normalization\n"
      ]
    },
    {
      "cell_type": "markdown",
      "metadata": {
        "id": "zsVdJrS36jBS"
      },
      "source": [
        "### 1. train_test_split( )\n",
        "\n",
        "      ※Core parameters: test_size, random_state\n",
        "        test_size -> test_data size / whole data size\n",
        "        random_state -> Create the same training/test data set every time "
      ]
    },
    {
      "cell_type": "code",
      "metadata": {
        "id": "sWum-7nZuim8",
        "colab": {
          "base_uri": "https://localhost:8080/"
        },
        "outputId": "cde70a3d-3080-4f2e-de40-5f2b415ba3d8"
      },
      "source": [
        "train_data = iris.data\n",
        "train_label = iris.target\n",
        "dtc.fit(train_data, train_label)\n",
        "\n",
        "pred = dtc.predict(train_data)\n",
        "print(\"accuracy_score:\", accuracy_score(pred, train_label))"
      ],
      "execution_count": null,
      "outputs": [
        {
          "output_type": "stream",
          "name": "stdout",
          "text": [
            "accuracy_score: 1.0\n"
          ]
        }
      ]
    },
    {
      "cell_type": "code",
      "metadata": {
        "colab": {
          "base_uri": "https://localhost:8080/"
        },
        "id": "5ff99LNF7o5J",
        "outputId": "874f516b-973c-4913-c404-130270af4a17"
      },
      "source": [
        "x_train, x_test, y_train, y_test = train_test_split(train_data, train_label, test_size = 0.3, random_state = 121)\n",
        "dtc.fit(x_train, y_train)\n",
        "pred = dtc.predict(x_test)\n",
        "print(\"accuracy_score: %.4f\" %accuracy_score(y_test,pred))"
      ],
      "execution_count": null,
      "outputs": [
        {
          "output_type": "stream",
          "name": "stdout",
          "text": [
            "accuracy_score: 0.9556\n"
          ]
        }
      ]
    },
    {
      "cell_type": "markdown",
      "metadata": {
        "id": "LHH8lXi091yI"
      },
      "source": [
        "### 2. cross-validation\n",
        "    Used for improve overfitting\n",
        "    overfitting: When the model is excessively optimized only for train data and actual prediction is performed with other data,\n",
        "                 the prediction performance is excessively low.\n",
        "    Train data -> Train data + Validation data"
      ]
    },
    {
      "cell_type": "markdown",
      "metadata": {
        "id": "00OEf2VpxWEB"
      },
      "source": [
        "* KFOLD cross-validation\n",
        "      Create k data fold sets and repeatedly perform training and verification evaluations on each fold set as many as k times.\n",
        "\n",
        "      data set(k=5)\n",
        "      Train, Train, Train, Train, Valid -> verification evaluation1(eval1)\n",
        "      Train, Train, Train, Valid, Train -> verification evaluation2(eval2)\n",
        "      Train, Train, Valid, Train, Train -> verification evaluation3(eval3)\n",
        "      Train, Valid, Train, Train, Train -> verification evaluation4(eval4)\n",
        "      Valid, Train, Train, Train, Train -> verification evaluation5(eval5)\n",
        "      Final evaluation = mean(eval[1,2,3,4,5])\n",
        "\n",
        "      kfold.split() -> split learning data into learning data and validation data\n",
        "      return value: index \n",
        "                                                        "
      ]
    },
    {
      "cell_type": "code",
      "metadata": {
        "id": "7AtrIEuu79cp",
        "colab": {
          "base_uri": "https://localhost:8080/"
        },
        "outputId": "0640799d-ea72-47c5-fbd6-0f5b4be18be3"
      },
      "source": [
        "from sklearn.tree import DecisionTreeClassifier\n",
        "from sklearn.metrics import accuracy_score\n",
        "from sklearn.model_selection import KFold\n",
        "import numpy as np\n",
        "\n",
        "iris = load_iris()\n",
        "features = iris.data\n",
        "label = iris.target\n",
        "dtc = DecisionTreeClassifier(random_state = 156)\n",
        "\n",
        "kfold = KFold(n_splits = 5)\n",
        "print(\"iris data's size:\", features.shape[0])"
      ],
      "execution_count": null,
      "outputs": [
        {
          "output_type": "stream",
          "name": "stdout",
          "text": [
            "iris data's size: 150\n"
          ]
        }
      ]
    },
    {
      "cell_type": "code",
      "metadata": {
        "colab": {
          "base_uri": "https://localhost:8080/"
        },
        "id": "tmKADqkS057B",
        "outputId": "f1f7bc26-7672-4a35-e546-e313d48d05f7"
      },
      "source": [
        "n_iter = 0\n",
        "cv_accuracy = []\n",
        "for train_index, test_index in kfold.split(features):\n",
        "  x_train, x_test = features[train_index], features[test_index]\n",
        "  y_train, y_test = label[train_index], label[test_index]\n",
        "  dtc.fit(x_train, y_train)\n",
        "  pred = dtc.predict(x_test)\n",
        "  n_iter += 1\n",
        "\n",
        "  accuracy = np.round(accuracy_score(y_test, pred),4)\n",
        "  cv_accuracy.append(accuracy) \n",
        "  train_size = x_train.shape[0]\n",
        "  test_size = x_test.shape[0]\n",
        "  print(\"\\n#{0} validation accuracy:{1}, train_data size:{2}, test_data size:{3}\".format(n_iter, accuracy, train_size, test_size))\n",
        "  print(\"\\n#{0} validation_data index:{1}\".format(n_iter, test_index))\n",
        "print(\"\\n## Final evaluation:\", np.mean(cv_accuracy))\n"
      ],
      "execution_count": null,
      "outputs": [
        {
          "output_type": "stream",
          "name": "stdout",
          "text": [
            "\n",
            "#1 validation accuracy:1.0, train_data size:120, test_data size:30\n",
            "\n",
            "#1 validation_data index:[ 0  1  2  3  4  5  6  7  8  9 10 11 12 13 14 15 16 17 18 19 20 21 22 23\n",
            " 24 25 26 27 28 29]\n",
            "\n",
            "#2 validation accuracy:0.9667, train_data size:120, test_data size:30\n",
            "\n",
            "#2 validation_data index:[30 31 32 33 34 35 36 37 38 39 40 41 42 43 44 45 46 47 48 49 50 51 52 53\n",
            " 54 55 56 57 58 59]\n",
            "\n",
            "#3 validation accuracy:0.8667, train_data size:120, test_data size:30\n",
            "\n",
            "#3 validation_data index:[60 61 62 63 64 65 66 67 68 69 70 71 72 73 74 75 76 77 78 79 80 81 82 83\n",
            " 84 85 86 87 88 89]\n",
            "\n",
            "#4 validation accuracy:0.9333, train_data size:120, test_data size:30\n",
            "\n",
            "#4 validation_data index:[ 90  91  92  93  94  95  96  97  98  99 100 101 102 103 104 105 106 107\n",
            " 108 109 110 111 112 113 114 115 116 117 118 119]\n",
            "\n",
            "#5 validation accuracy:0.7333, train_data size:120, test_data size:30\n",
            "\n",
            "#5 validation_data index:[120 121 122 123 124 125 126 127 128 129 130 131 132 133 134 135 136 137\n",
            " 138 139 140 141 142 143 144 145 146 147 148 149]\n",
            "\n",
            "## Final evaluation: 0.9\n"
          ]
        }
      ]
    },
    {
      "cell_type": "markdown",
      "metadata": {
        "id": "DC2tA_bY4XYz"
      },
      "source": [
        "* Stratified KFold\n",
        "      The k-fold method for label datasets with unbalanced distribution\n",
        "      Frequently used in Classification problems\n",
        "      Not supported in Regression\n",
        "      Split (train_data) into (train_data) and (validation_data) by (label_data)'s distribution\n",
        "      -> StratifiedKFold.split() -> parameters: feature_data, label_data\n",
        "                   KFold.split() -> parameters: feature_data\n",
        "      "
      ]
    },
    {
      "cell_type": "code",
      "metadata": {
        "colab": {
          "base_uri": "https://localhost:8080/"
        },
        "id": "eYo1cOXz4FTW",
        "outputId": "eba17407-912c-48c1-d797-299647b943d3"
      },
      "source": [
        "import pandas as pd\n",
        "\n",
        "iris = load_iris()\n",
        "iris_df = pd.DataFrame(data = iris.data, columns = iris.feature_names)\n",
        "iris_df['label'] = iris.target\n",
        "iris_df['label'].value_counts()"
      ],
      "execution_count": null,
      "outputs": [
        {
          "output_type": "execute_result",
          "data": {
            "text/plain": [
              "2    50\n",
              "1    50\n",
              "0    50\n",
              "Name: label, dtype: int64"
            ]
          },
          "metadata": {},
          "execution_count": 9
        }
      ]
    },
    {
      "cell_type": "code",
      "metadata": {
        "colab": {
          "base_uri": "https://localhost:8080/"
        },
        "id": "yYHnKL6D_BaE",
        "outputId": "313f2dc6-7c9d-422f-8ab1-34cd328f608c"
      },
      "source": [
        "kfold = KFold(n_splits = 3)\n",
        "n_iter = 0\n",
        "for train_index, test_index in kfold.split(iris_df):\n",
        "  n_iter += 1\n",
        "  label_train = iris_df['label'].iloc[train_index]\n",
        "  label_test = iris_df['label'].iloc[test_index]\n",
        "  print(\"## cross-validation: {0}\".format(n_iter))\n",
        "  print(\"train_label_data's distribution:\\n\", label_train.value_counts())\n",
        "  print(\"test_label_data's distribution:\\n\", label_test.value_counts())\n",
        "  print()"
      ],
      "execution_count": null,
      "outputs": [
        {
          "output_type": "stream",
          "name": "stdout",
          "text": [
            "## cross-validation: 1\n",
            "train_label_data's distribution:\n",
            " 2    50\n",
            "1    50\n",
            "Name: label, dtype: int64\n",
            "test_label_data's distribution:\n",
            " 0    50\n",
            "Name: label, dtype: int64\n",
            "\n",
            "## cross-validation: 2\n",
            "train_label_data's distribution:\n",
            " 2    50\n",
            "0    50\n",
            "Name: label, dtype: int64\n",
            "test_label_data's distribution:\n",
            " 1    50\n",
            "Name: label, dtype: int64\n",
            "\n",
            "## cross-validation: 3\n",
            "train_label_data's distribution:\n",
            " 1    50\n",
            "0    50\n",
            "Name: label, dtype: int64\n",
            "test_label_data's distribution:\n",
            " 2    50\n",
            "Name: label, dtype: int64\n",
            "\n"
          ]
        }
      ]
    },
    {
      "cell_type": "code",
      "metadata": {
        "colab": {
          "base_uri": "https://localhost:8080/"
        },
        "id": "CU9ZM3eOAovs",
        "outputId": "3e1daa6f-42fe-429c-d76e-42ff4a72cd35"
      },
      "source": [
        "from sklearn.model_selection import StratifiedKFold\n",
        "skf = StratifiedKFold(n_splits = 3)\n",
        "n_iter = 0\n",
        "\n",
        "for train_index, test_index in skf.split(iris_df, iris_df['label']):\n",
        "  n_iter += 1\n",
        "  label_train = iris_df['label'].iloc[train_index]\n",
        "  label_test = iris_df['label'].iloc[test_index]\n",
        "  print(\"## cross-validation: {0}\".format(n_iter))\n",
        "  print(\"train_label_data's distribution:\\n\", label_train.value_counts())\n",
        "  print(\"test_label_data's distribution:\\n\", label_test.value_counts())\n",
        "  print()"
      ],
      "execution_count": null,
      "outputs": [
        {
          "output_type": "stream",
          "name": "stdout",
          "text": [
            "## cross-validation: 1\n",
            "train_label_data's distribution:\n",
            " 2    34\n",
            "1    33\n",
            "0    33\n",
            "Name: label, dtype: int64\n",
            "test_label_data's distribution:\n",
            " 1    17\n",
            "0    17\n",
            "2    16\n",
            "Name: label, dtype: int64\n",
            "\n",
            "## cross-validation: 2\n",
            "train_label_data's distribution:\n",
            " 1    34\n",
            "2    33\n",
            "0    33\n",
            "Name: label, dtype: int64\n",
            "test_label_data's distribution:\n",
            " 2    17\n",
            "0    17\n",
            "1    16\n",
            "Name: label, dtype: int64\n",
            "\n",
            "## cross-validation: 3\n",
            "train_label_data's distribution:\n",
            " 0    34\n",
            "2    33\n",
            "1    33\n",
            "Name: label, dtype: int64\n",
            "test_label_data's distribution:\n",
            " 2    17\n",
            "1    17\n",
            "0    16\n",
            "Name: label, dtype: int64\n",
            "\n"
          ]
        }
      ]
    },
    {
      "cell_type": "code",
      "metadata": {
        "colab": {
          "base_uri": "https://localhost:8080/"
        },
        "id": "EFIx-eMBCd2Q",
        "outputId": "e487cca2-7454-4472-bf0f-eaa17616b6e6"
      },
      "source": [
        "n_iter = 0\n",
        "cv_accuracy = []\n",
        "for train_index, test_index in skf.split(features, label):\n",
        "  x_train, x_test = features[train_index], features[test_index]\n",
        "  y_train, y_test = label[train_index], label[test_index]\n",
        "  dtc.fit(x_train, y_train)\n",
        "  pred = dtc.predict(x_test)\n",
        "  n_iter += 1\n",
        "\n",
        "  accuracy = np.round(accuracy_score(y_test, pred),4)\n",
        "  cv_accuracy.append(accuracy) \n",
        "  train_size = x_train.shape[0]\n",
        "  test_size = x_test.shape[0]\n",
        "  print(\"\\n#{0} validation accuracy:{1}, train_data size:{2}, test_data size:{3}\".format(n_iter, accuracy, train_size, test_size))\n",
        "  print(\"\\n#{0} validation_data index:{1}\".format(n_iter, test_index))\n",
        "print(\"\\n## Final evaluation:\", np.mean(cv_accuracy))\n"
      ],
      "execution_count": null,
      "outputs": [
        {
          "output_type": "stream",
          "name": "stdout",
          "text": [
            "\n",
            "#1 validation accuracy:0.98, train_data size:100, test_data size:50\n",
            "\n",
            "#1 validation_data index:[  0   1   2   3   4   5   6   7   8   9  10  11  12  13  14  15  16  50\n",
            "  51  52  53  54  55  56  57  58  59  60  61  62  63  64  65  66 100 101\n",
            " 102 103 104 105 106 107 108 109 110 111 112 113 114 115]\n",
            "\n",
            "#2 validation accuracy:0.94, train_data size:100, test_data size:50\n",
            "\n",
            "#2 validation_data index:[ 17  18  19  20  21  22  23  24  25  26  27  28  29  30  31  32  33  67\n",
            "  68  69  70  71  72  73  74  75  76  77  78  79  80  81  82 116 117 118\n",
            " 119 120 121 122 123 124 125 126 127 128 129 130 131 132]\n",
            "\n",
            "#3 validation accuracy:0.98, train_data size:100, test_data size:50\n",
            "\n",
            "#3 validation_data index:[ 34  35  36  37  38  39  40  41  42  43  44  45  46  47  48  49  83  84\n",
            "  85  86  87  88  89  90  91  92  93  94  95  96  97  98  99 133 134 135\n",
            " 136 137 138 139 140 141 142 143 144 145 146 147 148 149]\n",
            "\n",
            "## Final evaluation: 0.9666666666666667\n"
          ]
        }
      ]
    },
    {
      "cell_type": "markdown",
      "metadata": {
        "id": "p3yjzDCADXwt"
      },
      "source": [
        "* cross_val_score( )\n",
        "      cross-validation API\n",
        "      Use Stratified KFold: Classfier\n",
        "                     KFold: Regressor\n",
        "      cross_val_score(estinamter, X, y=None, scoring=None, cv=None, n_jobs=1, verbose=0, fit_params=None, pre_dispatch='2*n_jobs')\n",
        "      ※Core parameters: estimator, X, y, scoring, cv\n",
        "        estimatior -> Classifier or Regressor\n",
        "        X -> Feature_data\n",
        "        y -> Label_data\n",
        "        scoring -> Evaluation metrics\n",
        "        cv -> Number of cross-validation folds\n",
        "       return -> Evaluation value with metrics\n",
        "        "
      ]
    },
    {
      "cell_type": "code",
      "metadata": {
        "colab": {
          "base_uri": "https://localhost:8080/"
        },
        "id": "6MaZtxAKC32P",
        "outputId": "41495b1a-2ae2-4ae7-f475-553acf0d4b37"
      },
      "source": [
        "from sklearn.tree import DecisionTreeClassifier\n",
        "from sklearn.model_selection import cross_val_score\n",
        "from sklearn.datasets import load_iris\n",
        "\n",
        "iris_data = load_iris()\n",
        "dtc = DecisionTreeClassifier(random_state = 156)\n",
        "\n",
        "data = iris.data\n",
        "label = iris.target\n",
        "\n",
        "scores = cross_val_score(dtc, data, label, scoring = 'accuracy', cv=3)\n",
        "print(\"cross-validation score:\", np.round(scores,4))\n",
        "print(\"mean(cross-validation score):\", np.round(np.mean(scores),4))"
      ],
      "execution_count": null,
      "outputs": [
        {
          "output_type": "stream",
          "name": "stdout",
          "text": [
            "cross-validation score: [0.98 0.94 0.98]\n",
            "mean(cross-validation score): 0.9667\n"
          ]
        }
      ]
    },
    {
      "cell_type": "markdown",
      "metadata": {
        "id": "fomLVER2HJee"
      },
      "source": [
        "### 3.   GridSearchCV\n",
        "    API that can derive optimal parameters\n",
        "    ※Core parameters: estimator, param_grid, scoring, cv, refit\n",
        "    estimator -> Classifier, Regressosr, Pipeline\n",
        "    param_grid -> dictionary(key + list)\n",
        "                  key: parameter name(str), value: parameter value(list)\n",
        "    scoring -> Evaluation metrics\n",
        "    cv -> Number of cross-validation folds\n",
        "    refit -> If true, find optimal hyperparameter, re-train the entered estimator object with the corresponding hyperparameters"
      ]
    },
    {
      "cell_type": "code",
      "metadata": {
        "id": "AMtc-FkYG72c"
      },
      "source": [
        "from sklearn.datasets import load_iris\n",
        "from sklearn.tree import DecisionTreeClassifier\n",
        "from sklearn.model_selection import GridSearchCV\n",
        "\n",
        "iris_data = load_iris()\n",
        "x_train, x_test, y_train, y_test = train_test_split(iris_data.data, iris_data.target, test_size = 0.2 ,random_state = 121)\n",
        "dtc = DecisionTreeClassifier()\n",
        "parameters = {'max_depth': [1,2,3], 'min_samples_split': [2,3]}"
      ],
      "execution_count": null,
      "outputs": []
    },
    {
      "cell_type": "code",
      "metadata": {
        "colab": {
          "base_uri": "https://localhost:8080/",
          "height": 235
        },
        "id": "6n9VNUP07XUH",
        "outputId": "b3cf2e8c-4a55-443c-a918-5d532687309c"
      },
      "source": [
        "import pandas as pd\n",
        "grid_dtc = GridSearchCV(dtc, param_grid = parameters, cv = 3, refit = True)\n",
        "grid_dtc.fit(x_train, y_train)\n",
        "\n",
        "scores_df = pd.DataFrame(grid_dtc.cv_results_)\n",
        "scores_df[['params', 'mean_test_score', 'rank_test_score', 'split0_test_score', 'split1_test_score', 'split2_test_score']]"
      ],
      "execution_count": null,
      "outputs": [
        {
          "output_type": "execute_result",
          "data": {
            "text/html": [
              "<div>\n",
              "<style scoped>\n",
              "    .dataframe tbody tr th:only-of-type {\n",
              "        vertical-align: middle;\n",
              "    }\n",
              "\n",
              "    .dataframe tbody tr th {\n",
              "        vertical-align: top;\n",
              "    }\n",
              "\n",
              "    .dataframe thead th {\n",
              "        text-align: right;\n",
              "    }\n",
              "</style>\n",
              "<table border=\"1\" class=\"dataframe\">\n",
              "  <thead>\n",
              "    <tr style=\"text-align: right;\">\n",
              "      <th></th>\n",
              "      <th>params</th>\n",
              "      <th>mean_test_score</th>\n",
              "      <th>rank_test_score</th>\n",
              "      <th>split0_test_score</th>\n",
              "      <th>split1_test_score</th>\n",
              "      <th>split2_test_score</th>\n",
              "    </tr>\n",
              "  </thead>\n",
              "  <tbody>\n",
              "    <tr>\n",
              "      <th>0</th>\n",
              "      <td>{'max_depth': 1, 'min_samples_split': 2}</td>\n",
              "      <td>0.700000</td>\n",
              "      <td>5</td>\n",
              "      <td>0.700</td>\n",
              "      <td>0.7</td>\n",
              "      <td>0.70</td>\n",
              "    </tr>\n",
              "    <tr>\n",
              "      <th>1</th>\n",
              "      <td>{'max_depth': 1, 'min_samples_split': 3}</td>\n",
              "      <td>0.700000</td>\n",
              "      <td>5</td>\n",
              "      <td>0.700</td>\n",
              "      <td>0.7</td>\n",
              "      <td>0.70</td>\n",
              "    </tr>\n",
              "    <tr>\n",
              "      <th>2</th>\n",
              "      <td>{'max_depth': 2, 'min_samples_split': 2}</td>\n",
              "      <td>0.958333</td>\n",
              "      <td>3</td>\n",
              "      <td>0.925</td>\n",
              "      <td>1.0</td>\n",
              "      <td>0.95</td>\n",
              "    </tr>\n",
              "    <tr>\n",
              "      <th>3</th>\n",
              "      <td>{'max_depth': 2, 'min_samples_split': 3}</td>\n",
              "      <td>0.958333</td>\n",
              "      <td>3</td>\n",
              "      <td>0.925</td>\n",
              "      <td>1.0</td>\n",
              "      <td>0.95</td>\n",
              "    </tr>\n",
              "    <tr>\n",
              "      <th>4</th>\n",
              "      <td>{'max_depth': 3, 'min_samples_split': 2}</td>\n",
              "      <td>0.975000</td>\n",
              "      <td>1</td>\n",
              "      <td>0.975</td>\n",
              "      <td>1.0</td>\n",
              "      <td>0.95</td>\n",
              "    </tr>\n",
              "    <tr>\n",
              "      <th>5</th>\n",
              "      <td>{'max_depth': 3, 'min_samples_split': 3}</td>\n",
              "      <td>0.975000</td>\n",
              "      <td>1</td>\n",
              "      <td>0.975</td>\n",
              "      <td>1.0</td>\n",
              "      <td>0.95</td>\n",
              "    </tr>\n",
              "  </tbody>\n",
              "</table>\n",
              "</div>"
            ],
            "text/plain": [
              "                                     params  ...  split2_test_score\n",
              "0  {'max_depth': 1, 'min_samples_split': 2}  ...               0.70\n",
              "1  {'max_depth': 1, 'min_samples_split': 3}  ...               0.70\n",
              "2  {'max_depth': 2, 'min_samples_split': 2}  ...               0.95\n",
              "3  {'max_depth': 2, 'min_samples_split': 3}  ...               0.95\n",
              "4  {'max_depth': 3, 'min_samples_split': 2}  ...               0.95\n",
              "5  {'max_depth': 3, 'min_samples_split': 3}  ...               0.95\n",
              "\n",
              "[6 rows x 6 columns]"
            ]
          },
          "metadata": {},
          "execution_count": 15
        }
      ]
    },
    {
      "cell_type": "markdown",
      "metadata": {
        "id": "5kNMooyF8ply"
      },
      "source": [
        "* best_params_, best_score_, best_estimator_\n",
        "      best_params_ -> Hyperparameter values representing the highest performance\n",
        "      best_score_ -> Evaluation result representing the highest performance\n",
        "      best_estimator_ -> Learn estimator as a hyperparameter that represents optimal performance and save it as a best_estimator_"
      ]
    },
    {
      "cell_type": "code",
      "metadata": {
        "colab": {
          "base_uri": "https://localhost:8080/"
        },
        "id": "_I13oHDJ72pE",
        "outputId": "994e53df-2b3a-4c7f-bab5-69be87fe853b"
      },
      "source": [
        "estimator = grid_dtc.best_estimator_\n",
        "pred = estimator.predict(x_test)\n",
        "print(\"Accuracy: %.4f\" %accuracy_score(y_test, pred))\n",
        "print(\"hyperparameters:\", grid_dtc.best_params_)"
      ],
      "execution_count": null,
      "outputs": [
        {
          "output_type": "stream",
          "name": "stdout",
          "text": [
            "Accuracy: 0.9667\n",
            "hyperparameters: {'max_depth': 3, 'min_samples_split': 2}\n"
          ]
        }
      ]
    },
    {
      "cell_type": "markdown",
      "metadata": {
        "id": "B7Gf-W20-EqM"
      },
      "source": [
        "##**4. Data Preprocessing**\n",
        "\n",
        "    Process Null(NaN) value -> NaN is not allowed\n",
        "    Convert string to number -> In Scikit-Learn's ML algorithm, string values are not allowed as input values\n",
        "\n",
        "1.   Label encoding\n",
        "2.   One-Hot encoding\n",
        "3.   Feature Scaling and Normalizer\n",
        "4.   Precautions for scaling conversion of training data and test data\n",
        "\n",
        "\n",
        "\n",
        "\n",
        "    \n",
        "\n",
        "\n",
        "\n",
        "\n",
        "\n",
        "\n",
        "\n",
        "\n",
        "\n",
        "\n",
        "\n",
        "\n",
        "\n"
      ]
    },
    {
      "cell_type": "markdown",
      "metadata": {
        "id": "T7t1s9ha-yHq"
      },
      "source": [
        "### 1. Label encoding\n",
        "      Convert category features to code-type numerical values\n",
        "      ex) category features: a,b,c,d,e\n",
        "          After label encoding -> a:1, b:2, c:3, d:4, e:5\n",
        "\n",
        "      In a particular ML algorithm, the predictive performance is poor because the characteristics of large and small work for numerical values\n",
        "      So, don't apply label encoding to ML algorithm such as linear regression\n",
        "      Tree-based algorithm -> Does not reflect the characteristics of large and small numbers: No problem for label encoding\n",
        "      Solution: One-Hot encoding\n",
        "      "
      ]
    },
    {
      "cell_type": "code",
      "metadata": {
        "colab": {
          "base_uri": "https://localhost:8080/"
        },
        "id": "FmoDBQWg9uIc",
        "outputId": "520d5c5f-a1cb-4def-d21d-141ad4e9b19d"
      },
      "source": [
        "from sklearn.preprocessing import LabelEncoder\n",
        "le = LabelEncoder()\n",
        "items = ['TV', 'refrigerator', 'oven', 'computer', 'electric fan', 'electric fan', 'mixer', 'mixer']\n",
        "le.fit(items)\n",
        "labels = le.transform(items)\n",
        "print(\"Before label encoding:\", items)\n",
        "print(\"After label encoding:\", labels)"
      ],
      "execution_count": null,
      "outputs": [
        {
          "output_type": "stream",
          "name": "stdout",
          "text": [
            "Before label encoding: ['TV', 'refrigerator', 'oven', 'computer', 'electric fan', 'electric fan', 'mixer', 'mixer']\n",
            "After label encoding: [0 5 4 1 2 2 3 3]\n"
          ]
        }
      ]
    },
    {
      "cell_type": "code",
      "metadata": {
        "colab": {
          "base_uri": "https://localhost:8080/"
        },
        "id": "a-LnXN2nBDsf",
        "outputId": "d6d641bc-8ffb-47f3-b01d-f085d60448c6"
      },
      "source": [
        "print('encoding class:', le.classes_)\n",
        "print(\"                [ 0        1            2          3       4          5      ]\")"
      ],
      "execution_count": null,
      "outputs": [
        {
          "output_type": "stream",
          "name": "stdout",
          "text": [
            "encoding class: ['TV' 'computer' 'electric fan' 'mixer' 'oven' 'refrigerator']\n",
            "                [ 0        1            2          3       4          5      ]\n"
          ]
        }
      ]
    },
    {
      "cell_type": "code",
      "metadata": {
        "colab": {
          "base_uri": "https://localhost:8080/"
        },
        "id": "7AcDSpwrBXBV",
        "outputId": "db1cc9d1-286b-4dde-95a2-f20704c5b24c"
      },
      "source": [
        "print('decoding value:', le.inverse_transform([0,5,4,1,2,2,3,3]))"
      ],
      "execution_count": null,
      "outputs": [
        {
          "output_type": "stream",
          "name": "stdout",
          "text": [
            "decoding value: ['TV' 'refrigerator' 'oven' 'computer' 'electric fan' 'electric fan'\n",
            " 'mixer' 'mixer']\n"
          ]
        }
      ]
    },
    {
      "cell_type": "markdown",
      "metadata": {
        "id": "PSsOXKPWEL-e"
      },
      "source": [
        "### 2. One-Hot encoding\n",
        "      Depending on the type of feature value,\n",
        "      a new feature is added to display 1 only in columns corresponding to unique values and 0 in the remaining columns\n",
        "      \n",
        "      Before applying One-Hot encoding,\n",
        "      1. Convert all string values to numerical values\n",
        "      2. 2D data is needed for input values\n",
        "      "
      ]
    },
    {
      "cell_type": "code",
      "metadata": {
        "colab": {
          "base_uri": "https://localhost:8080/"
        },
        "id": "pjPc2NfPCtJD",
        "outputId": "0e823ac3-51e3-4df0-af6b-a56ea23f7177"
      },
      "source": [
        "from sklearn.preprocessing import OneHotEncoder\n",
        "import numpy as np\n",
        "items = ['TV', 'refrigerator', 'oven', 'computer', 'electric fan', 'electric fan', 'mixer', 'mixer']\n",
        "\n",
        "#1. Convert all string values to numerical values\n",
        "le = LabelEncoder()\n",
        "le.fit(items)\n",
        "labels = le.transform(items)\n",
        "\n",
        "#2. 2D data is needed for input values \n",
        "labels = labels.reshape(-1,1)\n",
        "\n",
        "#3. Apply One-Hot encoding\n",
        "ohe = OneHotEncoder()\n",
        "ohe.fit(labels)\n",
        "ohe_labels = ohe.transform(labels)\n",
        "print(\"One-Hot encoding data:\\n\", ohe_labels.toarray())\n",
        "print()\n",
        "print(\"Dimension of One-Hot encoding data:\\n\", ohe_labels.shape )"
      ],
      "execution_count": null,
      "outputs": [
        {
          "output_type": "stream",
          "name": "stdout",
          "text": [
            "One-Hot encoding data:\n",
            " [[1. 0. 0. 0. 0. 0.]\n",
            " [0. 0. 0. 0. 0. 1.]\n",
            " [0. 0. 0. 0. 1. 0.]\n",
            " [0. 1. 0. 0. 0. 0.]\n",
            " [0. 0. 1. 0. 0. 0.]\n",
            " [0. 0. 1. 0. 0. 0.]\n",
            " [0. 0. 0. 1. 0. 0.]\n",
            " [0. 0. 0. 1. 0. 0.]]\n",
            "\n",
            "Dimension of One-Hot encoding data:\n",
            " (8, 6)\n"
          ]
        }
      ]
    },
    {
      "cell_type": "code",
      "metadata": {
        "colab": {
          "base_uri": "https://localhost:8080/"
        },
        "id": "hSrq_inkLrqT",
        "outputId": "0a0ed067-a9b4-4c76-e1c5-ccd55073b99c"
      },
      "source": [
        "ohe_labels"
      ],
      "execution_count": null,
      "outputs": [
        {
          "output_type": "execute_result",
          "data": {
            "text/plain": [
              "<8x6 sparse matrix of type '<class 'numpy.float64'>'\n",
              "\twith 8 stored elements in Compressed Sparse Row format>"
            ]
          },
          "metadata": {},
          "execution_count": 21
        }
      ]
    },
    {
      "cell_type": "markdown",
      "metadata": {
        "id": "ZvH0-y3hMBWc"
      },
      "source": [
        "* get_dummies( )\n",
        "      API, which supports One-Hot encoding more easily"
      ]
    },
    {
      "cell_type": "code",
      "metadata": {
        "colab": {
          "base_uri": "https://localhost:8080/",
          "height": 297
        },
        "id": "Q_GPv9ukL2TE",
        "outputId": "6758c06e-e8e0-40db-98d3-90849e328ca6"
      },
      "source": [
        "import pandas as pd\n",
        "df = pd.DataFrame({'item' : ['TV', 'refrigerator', 'oven', 'computer', 'electric fan', 'electric fan', 'mixer', 'mixer']})\n",
        "pd.get_dummies(df)"
      ],
      "execution_count": null,
      "outputs": [
        {
          "output_type": "execute_result",
          "data": {
            "text/html": [
              "<div>\n",
              "<style scoped>\n",
              "    .dataframe tbody tr th:only-of-type {\n",
              "        vertical-align: middle;\n",
              "    }\n",
              "\n",
              "    .dataframe tbody tr th {\n",
              "        vertical-align: top;\n",
              "    }\n",
              "\n",
              "    .dataframe thead th {\n",
              "        text-align: right;\n",
              "    }\n",
              "</style>\n",
              "<table border=\"1\" class=\"dataframe\">\n",
              "  <thead>\n",
              "    <tr style=\"text-align: right;\">\n",
              "      <th></th>\n",
              "      <th>item_TV</th>\n",
              "      <th>item_computer</th>\n",
              "      <th>item_electric fan</th>\n",
              "      <th>item_mixer</th>\n",
              "      <th>item_oven</th>\n",
              "      <th>item_refrigerator</th>\n",
              "    </tr>\n",
              "  </thead>\n",
              "  <tbody>\n",
              "    <tr>\n",
              "      <th>0</th>\n",
              "      <td>1</td>\n",
              "      <td>0</td>\n",
              "      <td>0</td>\n",
              "      <td>0</td>\n",
              "      <td>0</td>\n",
              "      <td>0</td>\n",
              "    </tr>\n",
              "    <tr>\n",
              "      <th>1</th>\n",
              "      <td>0</td>\n",
              "      <td>0</td>\n",
              "      <td>0</td>\n",
              "      <td>0</td>\n",
              "      <td>0</td>\n",
              "      <td>1</td>\n",
              "    </tr>\n",
              "    <tr>\n",
              "      <th>2</th>\n",
              "      <td>0</td>\n",
              "      <td>0</td>\n",
              "      <td>0</td>\n",
              "      <td>0</td>\n",
              "      <td>1</td>\n",
              "      <td>0</td>\n",
              "    </tr>\n",
              "    <tr>\n",
              "      <th>3</th>\n",
              "      <td>0</td>\n",
              "      <td>1</td>\n",
              "      <td>0</td>\n",
              "      <td>0</td>\n",
              "      <td>0</td>\n",
              "      <td>0</td>\n",
              "    </tr>\n",
              "    <tr>\n",
              "      <th>4</th>\n",
              "      <td>0</td>\n",
              "      <td>0</td>\n",
              "      <td>1</td>\n",
              "      <td>0</td>\n",
              "      <td>0</td>\n",
              "      <td>0</td>\n",
              "    </tr>\n",
              "    <tr>\n",
              "      <th>5</th>\n",
              "      <td>0</td>\n",
              "      <td>0</td>\n",
              "      <td>1</td>\n",
              "      <td>0</td>\n",
              "      <td>0</td>\n",
              "      <td>0</td>\n",
              "    </tr>\n",
              "    <tr>\n",
              "      <th>6</th>\n",
              "      <td>0</td>\n",
              "      <td>0</td>\n",
              "      <td>0</td>\n",
              "      <td>1</td>\n",
              "      <td>0</td>\n",
              "      <td>0</td>\n",
              "    </tr>\n",
              "    <tr>\n",
              "      <th>7</th>\n",
              "      <td>0</td>\n",
              "      <td>0</td>\n",
              "      <td>0</td>\n",
              "      <td>1</td>\n",
              "      <td>0</td>\n",
              "      <td>0</td>\n",
              "    </tr>\n",
              "  </tbody>\n",
              "</table>\n",
              "</div>"
            ],
            "text/plain": [
              "   item_TV  item_computer  ...  item_oven  item_refrigerator\n",
              "0        1              0  ...          0                  0\n",
              "1        0              0  ...          0                  1\n",
              "2        0              0  ...          1                  0\n",
              "3        0              1  ...          0                  0\n",
              "4        0              0  ...          0                  0\n",
              "5        0              0  ...          0                  0\n",
              "6        0              0  ...          0                  0\n",
              "7        0              0  ...          0                  0\n",
              "\n",
              "[8 rows x 6 columns]"
            ]
          },
          "metadata": {},
          "execution_count": 22
        }
      ]
    },
    {
      "cell_type": "markdown",
      "metadata": {
        "id": "3YjIxBtJMxWH"
      },
      "source": [
        "### 3. Feature Scaling and Normalizer\n",
        "    Feature Scaling -> StandardScaler(Standardization), MinMaxScaler(Normalization)\n",
        "    Normalizer -> Normalization of the concept of linear algebra(Vector normalization)\n",
        "    "
      ]
    },
    {
      "cell_type": "markdown",
      "metadata": {
        "id": "fgurTn27LsBV"
      },
      "source": [
        "* Standardization, Normalization, Normalizer\n",
        "      < Standardization >\n",
        "      Convert each data feature to a value\n",
        "      with a Gaussian normal distribution with a mean of 0 and a variance of 1\n",
        "      \n",
        "      x_new = (x - mean(x)) / std(x)\n",
        "\n",
        "      < Normalization >\n",
        "      Transform the sizes to unify the sizes of different features(min:0, max:1)\n",
        "\n",
        "      x_new = (x - min(x)) / (max(x) - min(x))\n",
        "\n",
        "      < Normalizer >\n",
        "      Transform to size individual vectors\n",
        "\n",
        "      x_new = x / sqrt(x^2 + y^2 + z^2)\n"
      ]
    },
    {
      "cell_type": "markdown",
      "metadata": {
        "id": "4Zr0zLdsQHyJ"
      },
      "source": [
        "* StandardScaler\n",
        "      Convert each data feature with a mean of 0 and a variance of 1\n",
        "      ML algorithm(SVM, Linear Regression, Logistic Regression) is implemented assuming that data has Gaussian distribution\n",
        "      If standardization is applied: DataFrame -> Numpy.ndarray\n",
        "      The fit() and transform() of StandardScaler can only be done with 2D or higher data"
      ]
    },
    {
      "cell_type": "code",
      "metadata": {
        "id": "tXb24ItWMf0n",
        "colab": {
          "base_uri": "https://localhost:8080/"
        },
        "outputId": "7a16c242-640b-44ec-de76-d37c23295edb"
      },
      "source": [
        "from sklearn.datasets import load_iris\n",
        "import pandas as pd\n",
        "\n",
        "iris = load_iris()\n",
        "iris_data = iris.data\n",
        "iris_df = pd.DataFrame(iris.data, columns = iris.feature_names)\n",
        "\n",
        "print(\"mean_features\")\n",
        "print(iris_df.mean())\n",
        "print()\n",
        "print(\"variance_features\")\n",
        "print(iris_df.var())"
      ],
      "execution_count": null,
      "outputs": [
        {
          "output_type": "stream",
          "name": "stdout",
          "text": [
            "mean_features\n",
            "sepal length (cm)    5.843333\n",
            "sepal width (cm)     3.057333\n",
            "petal length (cm)    3.758000\n",
            "petal width (cm)     1.199333\n",
            "dtype: float64\n",
            "\n",
            "variance_features\n",
            "sepal length (cm)    0.685694\n",
            "sepal width (cm)     0.189979\n",
            "petal length (cm)    3.116278\n",
            "petal width (cm)     0.581006\n",
            "dtype: float64\n"
          ]
        }
      ]
    },
    {
      "cell_type": "code",
      "metadata": {
        "colab": {
          "base_uri": "https://localhost:8080/"
        },
        "id": "M9j_I7E1OOV9",
        "outputId": "96373910-22d9-4e97-9210-109b9a01b108"
      },
      "source": [
        "from sklearn.preprocessing import StandardScaler\n",
        "sc = StandardScaler()\n",
        "sc.fit(iris_df)\n",
        "iris_scaled = sc.transform(iris_df)\n",
        "\n",
        "iris_df_scaled = pd.DataFrame(iris_scaled, columns = iris.feature_names)\n",
        "print(\"mean_features\")\n",
        "print(iris_df_scaled.mean())\n",
        "print()\n",
        "print(\"variance_features\")\n",
        "print(iris_df_scaled.var())"
      ],
      "execution_count": null,
      "outputs": [
        {
          "output_type": "stream",
          "name": "stdout",
          "text": [
            "mean_features\n",
            "sepal length (cm)   -1.690315e-15\n",
            "sepal width (cm)    -1.842970e-15\n",
            "petal length (cm)   -1.698641e-15\n",
            "petal width (cm)    -1.409243e-15\n",
            "dtype: float64\n",
            "\n",
            "variance_features\n",
            "sepal length (cm)    1.006711\n",
            "sepal width (cm)     1.006711\n",
            "petal length (cm)    1.006711\n",
            "petal width (cm)     1.006711\n",
            "dtype: float64\n"
          ]
        }
      ]
    },
    {
      "cell_type": "markdown",
      "metadata": {
        "id": "7jjLklf8V9b4"
      },
      "source": [
        "* MinMaxScaler\n",
        "      Transform the size of features(min:0, max:1)\n",
        "      If there's a negative value, (min:-1, max:1)\n",
        "      If Normalization is applied: DataFrame -> Numpy.ndarray\n",
        "      The fit() and transform() of MinMaxScaler can only be done with 2D or higher data"
      ]
    },
    {
      "cell_type": "code",
      "metadata": {
        "colab": {
          "base_uri": "https://localhost:8080/"
        },
        "id": "GPIP97zqVg0V",
        "outputId": "07229cab-b270-4364-9f45-a4132a7da183"
      },
      "source": [
        "from sklearn.preprocessing import MinMaxScaler\n",
        "msc = MinMaxScaler()\n",
        "msc.fit(iris_df)\n",
        "iris_scaled = msc.transform(iris_df)\n",
        "\n",
        "iris_df_scaled = pd.DataFrame(data = iris_scaled, columns = iris.feature_names)\n",
        "print(\"min_features\")\n",
        "print(iris_df_scaled.min())\n",
        "print()\n",
        "print(\"max_features\")\n",
        "print(iris_df_scaled.max())\n"
      ],
      "execution_count": null,
      "outputs": [
        {
          "output_type": "stream",
          "name": "stdout",
          "text": [
            "min_features\n",
            "sepal length (cm)    0.0\n",
            "sepal width (cm)     0.0\n",
            "petal length (cm)    0.0\n",
            "petal width (cm)     0.0\n",
            "dtype: float64\n",
            "\n",
            "max_features\n",
            "sepal length (cm)    1.0\n",
            "sepal width (cm)     1.0\n",
            "petal length (cm)    1.0\n",
            "petal width (cm)     1.0\n",
            "dtype: float64\n"
          ]
        }
      ]
    },
    {
      "cell_type": "markdown",
      "metadata": {
        "id": "i9o-uWabwGCS"
      },
      "source": [
        "### 4. Precautions for scaling conversion of training data and test data\n",
        "      fit() -> Setting standard information for data conversion\n",
        "      transform() -> Convert data with set information\n",
        "      * Problems\n",
        "      ex) sc.fit(x_train)\n",
        "          sc.transform(x_test)\n",
        "          -> sc is applied to x_train(standard information for data conversion: train_data)\n",
        "             test_data's scaling standard information is different from train_data's \n",
        "             So, transform(x_test) fail to derive the correct prediction results"
      ]
    },
    {
      "cell_type": "markdown",
      "metadata": {
        "id": "TVxBKqE4XDz8"
      },
      "source": [
        "* Problems when scaling\n",
        "      train_array's [1, 2, 3, 4, 5] -> [0.1, 0.2, 0.3, 0.4, 0.5]\n",
        "      test_array's [1, 2, 3, 4, 5] -> [0.2, 0.4, 0.6, 0.8, 1]\n",
        "      Scaled result is different between train_data and test_data\n",
        "\n",
        "      "
      ]
    },
    {
      "cell_type": "code",
      "metadata": {
        "id": "rsw_OZjuW0uE"
      },
      "source": [
        "from sklearn.preprocessing import MinMaxScaler\n",
        "import numpy as np\n",
        "train_array = np.arange(0,11).reshape(-1,1)\n",
        "test_array = np.arange(0,6).reshape(-1,1)"
      ],
      "execution_count": null,
      "outputs": []
    },
    {
      "cell_type": "code",
      "metadata": {
        "id": "b0iM1PA_ysYM",
        "colab": {
          "base_uri": "https://localhost:8080/"
        },
        "outputId": "62cfbc14-edca-4c3b-ab0e-294b08ec68bd"
      },
      "source": [
        "msc = MinMaxScaler()\n",
        "msc.fit(train_array)\n",
        "train_scaled = msc.transform(train_array)\n",
        "print(\"original train_data:\", train_array.reshape(-1))\n",
        "print(\"scaled train_data:\", np.round(train_scaled.reshape(-1),2))"
      ],
      "execution_count": null,
      "outputs": [
        {
          "output_type": "stream",
          "name": "stdout",
          "text": [
            "original train_data: [ 0  1  2  3  4  5  6  7  8  9 10]\n",
            "scaled train_data: [0.  0.1 0.2 0.3 0.4 0.5 0.6 0.7 0.8 0.9 1. ]\n"
          ]
        }
      ]
    },
    {
      "cell_type": "code",
      "metadata": {
        "colab": {
          "base_uri": "https://localhost:8080/"
        },
        "id": "SrRavNr6WSwD",
        "outputId": "a4907bea-2e48-4306-85a3-13d8626d0523"
      },
      "source": [
        "msc.fit(test_array)\n",
        "test_scaled = msc.transform(test_array)\n",
        "print(\"original test_data:\", test_array.reshape(-1))\n",
        "print(\"scaled test_data:\", np.round(test_scaled.reshape(-1),2))"
      ],
      "execution_count": null,
      "outputs": [
        {
          "output_type": "stream",
          "name": "stdout",
          "text": [
            "original test_data: [0 1 2 3 4 5]\n",
            "scaled test_data: [0.  0.2 0.4 0.6 0.8 1. ]\n"
          ]
        }
      ]
    },
    {
      "cell_type": "markdown",
      "metadata": {
        "id": "_B3o6IttXps8"
      },
      "source": [
        "* Solutions for problems\n",
        "       ML models are learned based on train data, test data must follow the scaling criteria of train data"
      ]
    },
    {
      "cell_type": "code",
      "metadata": {
        "colab": {
          "base_uri": "https://localhost:8080/"
        },
        "id": "kJng_9Z1XiZ7",
        "outputId": "f0b0242b-b732-4ae1-af54-e5cab6e5eb0b"
      },
      "source": [
        "msc = MinMaxScaler()\n",
        "msc.fit(train_array)\n",
        "train_scaled = msc.transform(train_array)\n",
        "\n",
        "print(\"original train_data:\", train_array.reshape(-1))\n",
        "print(\"scaled train_data:\", np.round(train_scaled.reshape(-1),2))\n",
        "print()\n",
        "\n",
        "test_scaled = msc.transform(test_array)\n",
        "print(\"original test_data:\", test_array.reshape(-1))\n",
        "print(\"scaled test_data:\", np.round(test_scaled.reshape(-1),2))"
      ],
      "execution_count": null,
      "outputs": [
        {
          "output_type": "stream",
          "name": "stdout",
          "text": [
            "original train_data: [ 0  1  2  3  4  5  6  7  8  9 10]\n",
            "scaled train_data: [0.  0.1 0.2 0.3 0.4 0.5 0.6 0.7 0.8 0.9 1. ]\n",
            "\n",
            "original test_data: [0 1 2 3 4 5]\n",
            "scaled test_data: [0.  0.1 0.2 0.3 0.4 0.5]\n"
          ]
        }
      ]
    },
    {
      "cell_type": "code",
      "metadata": {
        "id": "Npdc9W7HYkhx"
      },
      "source": [
        ""
      ],
      "execution_count": null,
      "outputs": []
    }
  ]
}